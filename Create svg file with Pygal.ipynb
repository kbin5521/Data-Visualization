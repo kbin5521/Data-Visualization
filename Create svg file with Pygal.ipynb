{
 "cells": [
  {
   "cell_type": "code",
   "execution_count": 1,
   "metadata": {},
   "outputs": [],
   "source": [
    "from random import randint\n",
    "\n",
    "class Die():\n",
    "    \n",
    "    def __init__(self, num_sides=6):\n",
    "        self.num_sides = num_sides\n",
    "        \n",
    "    def roll(self):\n",
    "        return randint(1,self.num_sides)"
   ]
  },
  {
   "cell_type": "code",
   "execution_count": 2,
   "metadata": {},
   "outputs": [
    {
     "name": "stdout",
     "output_type": "stream",
     "text": [
      "[6, 6, 1, 2, 4, 2, 1, 1, 4, 5, 6, 3, 3, 5, 1, 1, 2, 1, 3, 3, 1, 1, 2, 4, 6, 5, 3, 3, 4, 5, 5, 4, 2, 3, 2, 6, 1, 1, 1, 6, 4, 2, 2, 4, 3, 5, 1, 2, 3, 6, 6, 5, 3, 2, 5, 1, 4, 6, 3, 4, 2, 2, 5, 2, 1, 6, 4, 1, 5, 3, 6, 2, 2, 1, 1, 4, 5, 1, 1, 6, 4, 4, 3, 2, 3, 5, 4, 6, 4, 6, 5, 1, 2, 4, 2, 2, 2, 1, 5, 5, 1, 3, 5, 2, 6, 4, 5, 3, 5, 6, 6, 3, 5, 5, 2, 2, 2, 5, 4, 5, 2, 1, 4, 1, 4, 5, 6, 6, 4, 3, 2, 1, 1, 4, 6, 3, 2, 5, 4, 4, 1, 3, 2, 6, 4, 5, 5, 6, 4, 4, 4, 2, 6, 3, 6, 6, 5, 2, 5, 6, 3, 5, 5, 6, 4, 5, 5, 6, 2, 2, 6, 4, 3, 1, 6, 3, 5, 1, 1, 3, 1, 2, 1, 4, 3, 5, 5, 2, 3, 2, 3, 1, 1, 2, 6, 4, 5, 3, 5, 4, 2, 4, 2, 6, 1, 5, 3, 4, 5, 5, 6, 3, 2, 3, 6, 6, 3, 5, 6, 4, 6, 1, 2, 6, 4, 3, 6, 3, 4, 5, 1, 4, 3, 4, 6, 4, 3, 4, 5, 3, 2, 4, 4, 3, 4, 2, 5, 5, 2, 3, 5, 3, 1, 2, 5, 2, 1, 1, 4, 5, 2, 1, 6, 5, 6, 4, 1, 4, 1, 5, 5, 6, 6, 3, 1, 2, 4, 3, 1, 3, 3, 2, 4, 5, 5, 1, 1, 2, 1, 3, 3, 2, 6, 1, 1, 2, 4, 1, 2, 2, 6, 3, 5, 5, 4, 3, 1, 6, 6, 4, 1, 4, 2, 3, 4, 2, 4, 5, 4, 3, 2, 5, 3, 6, 3, 1, 3, 1, 6, 1, 4, 4, 2, 5, 4, 2, 1, 3, 4, 5, 3, 3, 2, 6, 3, 5, 4, 4, 1, 4, 4, 4, 1, 5, 2, 1, 3, 5, 2, 5, 4, 2, 2, 6, 1, 3, 2, 6, 5, 5, 6, 2, 1, 6, 1, 6, 2, 6, 4, 3, 6, 6, 5, 2, 3, 3, 2, 1, 3, 6, 5, 5, 6, 5, 5, 6, 5, 1, 4, 6, 6, 1, 1, 3, 6, 4, 2, 6, 3, 6, 3, 3, 6, 3, 2, 1, 4, 4, 6, 2, 3, 2, 2, 3, 6, 3, 4, 1, 2, 5, 4, 6, 3, 6, 6, 1, 4, 1, 5, 6, 6, 4, 5, 4, 3, 6, 1, 4, 6, 2, 6, 5, 6, 1, 5, 3, 5, 3, 2, 2, 5, 3, 5, 4, 6, 2, 4, 1, 3, 1, 4, 2, 6, 2, 3, 2, 4, 6, 3, 2, 2, 4, 2, 4, 6, 6, 4, 2, 1, 1, 2, 2, 1, 6, 1, 2, 1, 1, 4, 4, 3, 4, 3, 4, 2, 6, 2, 4, 3, 5, 4, 4, 2, 1, 5, 1, 3, 4, 4, 6, 1, 1, 4, 4, 1, 3, 5, 1, 4, 5, 1, 6, 4, 6, 4, 3, 2, 1, 2, 1, 5, 5, 4, 5, 4, 6, 4, 3, 3, 3, 5, 5, 2, 6, 1, 1, 6, 2, 3, 6, 2, 5, 2, 5, 3, 6, 6, 2, 4, 5, 1, 3, 5, 4, 3, 4, 4, 2, 6, 3, 1, 2, 1, 1, 5, 3, 2, 4, 6, 2, 5, 5, 2, 2, 6, 4, 3, 2, 2, 6, 4, 2, 2, 4, 4, 5, 4, 3, 4, 6, 4, 1, 5, 2, 4, 3, 4, 1, 3, 6, 6, 1, 6, 2, 1, 6, 2, 4, 5, 2, 3, 6, 6, 4, 4, 6, 2, 2, 3, 6, 4, 4, 1, 3, 4, 2, 1, 3, 3, 5, 3, 6, 6, 6, 4, 3, 4, 3, 4, 5, 3, 1, 5, 5, 2, 3, 6, 5, 5, 4, 1, 2, 3, 3, 3, 5, 2, 5, 1, 2, 6, 2, 2, 2, 5, 2, 4, 6, 1, 4, 3, 1, 3, 5, 5, 5, 4, 2, 6, 1, 1, 1, 4, 1, 5, 5, 1, 4, 4, 5, 1, 6, 3, 2, 1, 1, 4, 3, 6, 4, 1, 4, 4, 6, 6, 4, 5, 6, 4, 3, 6, 1, 4, 2, 1, 4, 1, 6, 6, 3, 2, 5, 1, 2, 2, 4, 4, 5, 1, 5, 2, 4, 2, 4, 5, 1, 1, 1, 2, 5, 5, 4, 4, 5, 1, 6, 3, 4, 3, 1, 3, 4, 5, 2, 5, 4, 6, 5, 1, 6, 6, 2, 5, 1, 4, 5, 2, 4, 3, 3, 1, 5, 5, 3, 5, 1, 3, 1, 5, 4, 6, 1, 4, 4, 6, 3, 1, 3, 1, 4, 2, 2, 1, 4, 3, 2, 2, 2, 2, 2, 5, 4, 4, 1, 2, 2, 1, 6, 2, 4, 6, 1, 2, 5, 6, 6, 4, 3, 1, 4, 3, 1, 2, 1, 4, 4, 4, 6, 3, 5, 5, 2, 2, 4, 3, 6, 2, 5, 1, 5, 2, 3, 5, 5, 2, 4, 3, 3, 3, 5, 5, 4, 5, 4, 2, 2, 1, 1, 4, 3, 6, 1, 6, 1, 2, 6, 6, 3, 3, 6, 1, 1, 5, 4, 4, 4, 4, 3, 3, 3, 2, 3, 1, 1, 6, 2, 5, 4, 3, 3, 5, 5, 4, 1, 6, 2, 2, 3, 2, 6, 2, 2, 4, 4, 5, 6, 5, 2, 6, 4, 3, 6, 1, 3, 1, 1, 2, 1, 1, 3, 3, 3, 1, 1, 1, 6, 1, 6, 4, 6, 6, 4, 4, 4, 2, 1, 3, 4, 2, 4, 3, 6, 3, 1, 2, 3, 3, 4, 5, 1, 3, 4, 6, 2, 3, 6, 5, 2, 4, 4, 5, 5, 1, 6, 3, 5, 1, 4, 5, 3, 1, 5, 1, 5, 3, 5, 1, 2, 6, 3]\n"
     ]
    }
   ],
   "source": [
    "die = Die()\n",
    "\n",
    "results = []\n",
    "\n",
    "for roll_num in range(1000):\n",
    "    result = die.roll()\n",
    "    results.append(result)\n",
    "print(results)"
   ]
  },
  {
   "cell_type": "code",
   "execution_count": 3,
   "metadata": {},
   "outputs": [
    {
     "name": "stdout",
     "output_type": "stream",
     "text": [
      "[168, 170, 162, 189, 156, 155]\n"
     ]
    }
   ],
   "source": [
    "frequencies = []\n",
    "\n",
    "for value in range(1,die.num_sides+1):\n",
    "    frequency = results.count(value)\n",
    "    frequencies.append(frequency)\n",
    "print(frequencies)"
   ]
  },
  {
   "cell_type": "code",
   "execution_count": 4,
   "metadata": {},
   "outputs": [],
   "source": [
    "import pygal\n",
    "\n",
    "hist = pygal.Bar()\n",
    "\n",
    "hist.title = 'Results of rolling one D6 1000 times'\n",
    "hist.x_labels = ['1','2','3','4','5','6']\n",
    "hist.x_title = 'Results'\n",
    "hist.y_title = 'Frequency of Result'\n",
    "\n",
    "hist.add('D6', frequencies)\n",
    "hist.render_to_file('die_visual.svg')"
   ]
  },
  {
   "cell_type": "code",
   "execution_count": 5,
   "metadata": {},
   "outputs": [
    {
     "name": "stdout",
     "output_type": "stream",
     "text": [
      "[265, 537, 823, 1113, 1435, 1668, 1392, 1092, 806, 604, 265]\n"
     ]
    }
   ],
   "source": [
    "die1 = Die()\n",
    "die2 = Die()\n",
    "\n",
    "results2 = []\n",
    "\n",
    "for roll_num in range(10000):\n",
    "    result = die1.roll() + die2.roll()\n",
    "    results2.append(result)\n",
    "    \n",
    "frequencies2 = []\n",
    "\n",
    "max_num_sides = die1.num_sides + die2.num_sides + 1\n",
    "\n",
    "for value in range(2, max_num_sides):\n",
    "    frequency = results2.count(value)\n",
    "    frequencies2.append(frequency)\n",
    "    \n",
    "print(frequencies2)\n"
   ]
  },
  {
   "cell_type": "code",
   "execution_count": 6,
   "metadata": {},
   "outputs": [],
   "source": [
    "hist1 = pygal.Bar()\n",
    "\n",
    "\n",
    "hist1.title = 'Frequency Bar Charts1321321'\n",
    "hist1.x_labels = ['2', '3', '4', '5', '6', '7', '8', '9', '10', '11', '12']\n",
    "hist1.x_title = 'Result'\n",
    "hist.y_title = 'Frequencies'\n",
    "hist1.add('Die two dies 10000', frequencies2)\n",
    "hist1.render_to_file('die_visual2.svg')"
   ]
  },
  {
   "cell_type": "code",
   "execution_count": null,
   "metadata": {},
   "outputs": [],
   "source": []
  }
 ],
 "metadata": {
  "kernelspec": {
   "display_name": "Python 3",
   "language": "python",
   "name": "python3"
  },
  "language_info": {
   "codemirror_mode": {
    "name": "ipython",
    "version": 3
   },
   "file_extension": ".py",
   "mimetype": "text/x-python",
   "name": "python",
   "nbconvert_exporter": "python",
   "pygments_lexer": "ipython3",
   "version": "3.6.5"
  }
 },
 "nbformat": 4,
 "nbformat_minor": 2
}
